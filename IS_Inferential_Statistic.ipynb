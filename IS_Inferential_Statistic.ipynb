{
  "nbformat": 4,
  "nbformat_minor": 0,
  "metadata": {
    "colab": {
      "provenance": []
    },
    "kernelspec": {
      "name": "python3",
      "display_name": "Python 3"
    },
    "language_info": {
      "name": "python"
    }
  },
  "cells": [
    {
      "cell_type": "code",
      "execution_count": 14,
      "metadata": {
        "id": "F3cNMf2usTbh"
      },
      "outputs": [],
      "source": [
        "import pandas as pd\n",
        "import scipy.stats as stats"
      ]
    },
    {
      "cell_type": "code",
      "source": [
        "df = pd.read_csv('/content/IS_RelianceDataMart.csv')"
      ],
      "metadata": {
        "id": "ZB_pqrH6u_3P"
      },
      "execution_count": 15,
      "outputs": []
    },
    {
      "cell_type": "code",
      "source": [
        "print(\"Initial Data:\")\n",
        "print(df.info())\n",
        "print(df.head(11))"
      ],
      "metadata": {
        "colab": {
          "base_uri": "https://localhost:8080/"
        },
        "id": "KlX4sHMvvG72",
        "outputId": "9f43f2ab-4925-4a7e-8b9d-2534ec2540f7"
      },
      "execution_count": 16,
      "outputs": [
        {
          "output_type": "stream",
          "name": "stdout",
          "text": [
            "Initial Data:\n",
            "<class 'pandas.core.frame.DataFrame'>\n",
            "RangeIndex: 29 entries, 0 to 28\n",
            "Data columns (total 1 columns):\n",
            " #   Column           Non-Null Count  Dtype  \n",
            "---  ------           --------------  -----  \n",
            " 0   Rice_Bag_Weight  29 non-null     float64\n",
            "dtypes: float64(1)\n",
            "memory usage: 364.0 bytes\n",
            "None\n",
            "    Rice_Bag_Weight\n",
            "0              24.5\n",
            "1              24.7\n",
            "2              25.6\n",
            "3              25.0\n",
            "4              24.7\n",
            "5              23.3\n",
            "6              23.3\n",
            "7              24.0\n",
            "8              25.1\n",
            "9              24.3\n",
            "10             23.3\n"
          ]
        }
      ]
    },
    {
      "cell_type": "code",
      "source": [
        "# Assuming the 'Rice Bag' values are in a column named 'Rice_Bag'\n",
        "column_name = 'Rice_Bag_Weight'  # Change if needed\n",
        "\n",
        "# Check if column exists\n",
        "if column_name not in df.columns:\n",
        "    raise ValueError(f\"Column '{column_name}' not found in dataset.\")\n",
        "\n",
        "# Drop NaN values if any\n",
        "df = df.dropna(subset=[column_name])\n",
        "\n",
        "# Hypothesized population mean (change this as needed)\n",
        "population_mean = 25 # Example value\n",
        "\n",
        "# Perform One-Sample t-test\n",
        "t_stat, p_value = stats.ttest_1samp(df[column_name], population_mean)\n",
        "\n",
        "# Display results\n",
        "print(\"\\nOne-Sample t-test Results:\")\n",
        "print(f\"T-Statistic: {t_stat}\")\n",
        "print(f\"P-Value: {p_value}\")\n",
        "\n",
        "# Conclusion based on p-value\n",
        "alpha = 0.05  # Significance level\n",
        "if p_value < alpha:\n",
        "    print(\"Result: Reject the null hypothesis (Significant difference found).\")\n",
        "else:\n",
        "    print(\"Result: Fail to reject the null hypothesis (No significant difference found).\")\n"
      ],
      "metadata": {
        "colab": {
          "base_uri": "https://localhost:8080/"
        },
        "id": "6_HkashmvJUW",
        "outputId": "e7d6f632-4a58-4d17-9e41-9fd6c3cd576c"
      },
      "execution_count": 17,
      "outputs": [
        {
          "output_type": "stream",
          "name": "stdout",
          "text": [
            "\n",
            "One-Sample t-test Results:\n",
            "T-Statistic: -5.236976851657697\n",
            "P-Value: 1.4512165732179395e-05\n",
            "Result: Reject the null hypothesis (Significant difference found).\n"
          ]
        }
      ]
    },
    {
      "cell_type": "code",
      "source": [
        "\n",
        "# Statistical Calculations\n",
        "mean_value = df[column_name].mean()\n",
        "median_value = df[column_name].median()\n",
        "mode_value = df[column_name].mode()[0]\n",
        "max_value = df[column_name].max()\n",
        "min_value = df[column_name].min()\n",
        "std_dev = df[column_name].std()\n",
        "std_error = stats.sem(df[column_name])\n",
        "kurtosis_value = stats.kurtosis(df[column_name])\n",
        "skewness_value = stats.skew(df[column_name])\n",
        "range_value = max_value - min_value\n",
        "sum_value = df[column_name].sum()\n",
        "count_value = df[column_name].count()\n",
        "\n",
        "# Display statistical values\n",
        "print(\"\\nDescriptive Statistics:\")\n",
        "print(f\"Mean: {mean_value}\")\n",
        "print(f\"Median: {median_value}\")\n",
        "print(f\"Mode: {mode_value}\")\n",
        "print(f\"Max Value: {max_value}\")\n",
        "print(f\"Min Value: {min_value}\")\n",
        "print(f\"Standard Deviation: {std_dev}\")\n",
        "print(f\"Standard Error: {std_error}\")\n",
        "print(f\"Kurtosis: {kurtosis_value}\")\n",
        "print(f\"Skewness: {skewness_value}\")\n",
        "print(f\"Range: {range_value}\")\n",
        "print(f\"Sum: {sum_value}\")\n",
        "print(f\"Count: {count_value}\")\n",
        "\n",
        "# Hypothesized population mean\n",
        "population_mean = 25  # Updated as per request\n",
        "\n",
        "# Perform One-Sample t-test\n",
        "t_stat, p_value = stats.ttest_1samp(df[column_name], population_mean)\n",
        "\n",
        "# T Critical Value\n",
        "alpha = 0.05\n",
        "degrees_of_freedom = count_value - 1\n",
        "t_critical = stats.t.ppf(1 - alpha / 2, degrees_of_freedom)\n",
        "\n",
        "# Display results\n",
        "print(\"\\nOne-Sample t-test Results:\")\n",
        "print(f\"T-Statistic: {t_stat}\")\n",
        "print(f\"P-Value: {p_value}\")\n",
        "print(f\"T Critical Value: {t_critical}\")\n",
        "\n",
        "# Conclusion based on p-value\n",
        "if p_value < alpha:\n",
        "    print(\"Result: Reject the null hypothesis (Significant difference found).\")\n",
        "else:\n",
        "    print(\"Result: Fail to reject the null hypothesis (No significant difference found).\")\n"
      ],
      "metadata": {
        "id": "mTvIfXORwtDq",
        "outputId": "26341a97-7a2d-42e9-a4aa-bd4a1dc3e40a",
        "colab": {
          "base_uri": "https://localhost:8080/"
        }
      },
      "execution_count": 18,
      "outputs": [
        {
          "output_type": "stream",
          "name": "stdout",
          "text": [
            "\n",
            "Descriptive Statistics:\n",
            "Mean: 24.446206896551722\n",
            "Median: 24.5\n",
            "Mode: 24.7\n",
            "Max Value: 25.6\n",
            "Min Value: 23.3\n",
            "Standard Deviation: 0.56946349307988\n",
            "Standard Error: 0.10574671592695357\n",
            "Kurtosis: -0.1784721078672531\n",
            "Skewness: -0.38055508159392537\n",
            "Range: 2.3000000000000007\n",
            "Sum: 708.9399999999999\n",
            "Count: 29\n",
            "\n",
            "One-Sample t-test Results:\n",
            "T-Statistic: -5.236976851657697\n",
            "P-Value: 1.4512165732179395e-05\n",
            "T Critical Value: 2.048407141795244\n",
            "Result: Reject the null hypothesis (Significant difference found).\n"
          ]
        }
      ]
    },
    {
      "cell_type": "code",
      "source": [
        "import pandas as pd\n",
        "import scipy.stats as stats\n",
        "\n",
        "# Load Pre-Post Score dataset\n",
        "pre_post_file = \"/content/IS_Pre_Post_Score.xlsx\"\n",
        "pre_post_df = pd.read_excel(pre_post_file)\n",
        "\n",
        "# Display first few rows to inspect the data\n",
        "print(\"Pre-Post Score Data:\")\n",
        "print(pre_post_df.head())\n",
        "\n",
        "# Assuming 'Pre_Score' and 'Post_Score' are the correct column names\n",
        "pre_col, post_col = 'Pre_Score', 'Post_Score'\n",
        "if pre_col not in pre_post_df.columns or post_col not in pre_post_df.columns:\n",
        "    raise ValueError(\"Pre_Score or Post_Score column not found in dataset.\")\n",
        "\n",
        "# Drop NaN values if any\n",
        "pre_post_df = pre_post_df.dropna(subset=[pre_col, post_col])\n",
        "\n",
        "# Compute statistics\n",
        "mean_pre = pre_post_df[pre_col].mean()\n",
        "mean_post = pre_post_df[post_col].mean()\n",
        "var_pre = pre_post_df[pre_col].var()\n",
        "var_post = pre_post_df[post_col].var()\n",
        "n = pre_post_df.shape[0]  # Number of observations\n",
        "pearson_corr = pre_post_df[pre_col].corr(pre_post_df[post_col])\n",
        "hypo_mean_diff = 0  # Hypothesized mean difference\n",
        "df = n - 1  # Degrees of freedom\n",
        "\n",
        "# Perform Paired Sample t-test\n",
        "t_stat, p_value_two_tail = stats.ttest_rel(pre_post_df[pre_col], pre_post_df[post_col])\n",
        "p_value_one_tail = p_value_two_tail / 2\n",
        "\n",
        "# T Critical Values\n",
        "alpha = 0.05\n",
        "t_critical_one_tail = stats.t.ppf(1 - alpha, df)\n",
        "t_critical_two_tail = stats.t.ppf(1 - alpha / 2, df)\n",
        "\n",
        "# Display results\n",
        "print(\"\\nPaired Sample T-Test Results:\")\n",
        "print(f\"Mean Pre-Score: {mean_pre}\")\n",
        "print(f\"Mean Post-Score: {mean_post}\")\n",
        "print(f\"Variance Pre-Score: {var_pre}\")\n",
        "print(f\"Variance Post-Score: {var_post}\")\n",
        "print(f\"Number of Observations: {n}\")\n",
        "print(f\"Pearson Correlation: {pearson_corr}\")\n",
        "print(f\"Hypothesized Mean Difference: {hypo_mean_diff}\")\n",
        "print(f\"Degrees of Freedom: {df}\")\n",
        "print(f\"T-Statistic: {t_stat}\")\n",
        "print(f\"P-Value (One-Tail): {p_value_one_tail}\")\n",
        "print(f\"T Critical Value (One-Tail): {t_critical_one_tail}\")\n",
        "print(f\"P-Value (Two-Tail): {p_value_two_tail}\")\n",
        "print(f\"T Critical Value (Two-Tail): {t_critical_two_tail}\")\n",
        "\n",
        "# Conclusion based on p-value\n",
        "if p_value_two_tail < alpha:\n",
        "    print(\"Result: Reject the null hypothesis (Significant difference found).\")\n",
        "else:\n",
        "    print(\"Result: Fail to reject the null hypothesis (No significant difference found).\")\n"
      ],
      "metadata": {
        "colab": {
          "base_uri": "https://localhost:8080/"
        },
        "id": "ZoIjwELO0QOa",
        "outputId": "6629c19d-5de9-48ff-9bed-c3568a7b0d7c"
      },
      "execution_count": 19,
      "outputs": [
        {
          "output_type": "stream",
          "name": "stdout",
          "text": [
            "Pre-Post Score Data:\n",
            "   Pre_Score  Post_Score  Diff\n",
            "0         18          22    -4\n",
            "1         21          25    -4\n",
            "2         16          17    -1\n",
            "3         22          24    -2\n",
            "4         19          16     3\n",
            "\n",
            "Paired Sample T-Test Results:\n",
            "Mean Pre-Score: 18.4\n",
            "Mean Post-Score: 20.45\n",
            "Variance Pre-Score: 9.936842105263159\n",
            "Variance Post-Score: 16.471052631578946\n",
            "Number of Observations: 20\n",
            "Pearson Correlation: 0.7174770398523397\n",
            "Hypothesized Mean Difference: 0\n",
            "Degrees of Freedom: 19\n",
            "T-Statistic: -3.231252665580312\n",
            "P-Value (One-Tail): 0.002197482996592832\n",
            "T Critical Value (One-Tail): 1.729132811521367\n",
            "P-Value (Two-Tail): 0.004394965993185664\n",
            "T Critical Value (Two-Tail): 2.093024054408263\n",
            "Result: Reject the null hypothesis (Significant difference found).\n"
          ]
        }
      ]
    },
    {
      "cell_type": "code",
      "source": [
        "import pandas as pd\n",
        "import scipy.stats as stats\n",
        "\n",
        "# Load Pre-Post Score dataset\n",
        "pre_post_file = \"/content/IS_Pre_Post_Score.xlsx\"\n",
        "pre_post_df = pd.read_excel(pre_post_file)\n",
        "\n",
        "# Display first few rows to inspect the data\n",
        "print(\"Pre-Post Score Data:\")\n",
        "print(pre_post_df.head())\n",
        "\n",
        "# Assuming 'Pre_Score' and 'Post_Score' are the correct column names\n",
        "pre_col, post_col = 'Pre_Score', 'Post_Score'\n",
        "if pre_col not in pre_post_df.columns or post_col not in pre_post_df.columns:\n",
        "    raise ValueError(\"Pre_Score or Post_Score column not found in dataset.\")\n",
        "\n",
        "# Convert 'Post_Score' column to numeric, errors='coerce' will replace non-numeric values with NaN\n",
        "pre_post_df[post_col] = pd.to_numeric(pre_post_df[post_col], errors='coerce')\n",
        "\n",
        "# Drop NaN values if any\n",
        "pre_post_df = pre_post_df.dropna(subset=[pre_col, post_col])\n",
        "\n",
        "# Compute statistics\n",
        "mean_pre = pre_post_df[pre_col].mean()\n",
        "mean_post = pre_post_df[post_col].mean()\n",
        "var_pre = pre_post_df[pre_col].var()\n",
        "var_post = pre_post_df[post_col].var()\n",
        "n = pre_post_df.shape[0]  # Number of observations\n",
        "pearson_corr = pre_post_df[pre_col].corr(pre_post_df[post_col])\n",
        "hypo_mean_diff = 0  # Hypothesized mean difference\n",
        "df = n - 1  # Degrees of freedom\n",
        "\n",
        "# Perform Paired Sample t-test\n",
        "t_stat, p_value_two_tail = stats.ttest_rel(pre_post_df[pre_col], pre_post_df[post_col])\n",
        "p_value_one_tail = p_value_two_tail / 2\n",
        "\n",
        "# T Critical Values\n",
        "alpha = 0.05\n",
        "t_critical_one_tail = stats.t.ppf(1 - alpha, df)\n",
        "t_critical_two_tail = stats.t.ppf(1 - alpha / 2, df)\n",
        "\n",
        "# Display results\n",
        "print(\"\\nPaired Sample T-Test Results:\")\n",
        "print(f\"Mean Pre-Score: {mean_pre}\")\n",
        "print(f\"Mean Post-Score: {mean_post}\")\n",
        "print(f\"Variance Pre-Score: {var_pre}\")\n",
        "print(f\"Variance Post-Score: {var_post}\")\n",
        "print(f\"Number of Observations: {n}\")\n",
        "print(f\"Pearson Correlation: {pearson_corr}\")\n",
        "print(f\"Hypothesized Mean Difference: {hypo_mean_diff}\")\n",
        "print(f\"Degrees of Freedom: {df}\")\n",
        "print(f\"T-Statistic: {t_stat}\")\n",
        "print(f\"P-Value (One-Tail): {p_value_one_tail}\")\n",
        "print(f\"T Critical Value (One-Tail): {t_critical_one_tail}\")\n",
        "print(f\"P-Value (Two-Tail): {p_value_two_tail}\")\n",
        "print(f\"T Critical Value (Two-Tail): {t_critical_two_tail}\")\n",
        "\n",
        "# Conclusion based on p-value\n",
        "if p_value_two_tail < alpha:\n",
        "    print(\"Result: Reject the null hypothesis (Significant difference found).\")\n",
        "else:\n",
        "    print(\"Result: Fail to reject the null hypothesis (No significant difference found).\")"
      ],
      "metadata": {
        "colab": {
          "base_uri": "https://localhost:8080/"
        },
        "id": "YGcSt3S41_h5",
        "outputId": "0e09364b-4ae6-4e61-8b11-7bf1b2481f90"
      },
      "execution_count": 20,
      "outputs": [
        {
          "output_type": "stream",
          "name": "stdout",
          "text": [
            "Pre-Post Score Data:\n",
            "   Pre_Score  Post_Score  Diff\n",
            "0         18          22    -4\n",
            "1         21          25    -4\n",
            "2         16          17    -1\n",
            "3         22          24    -2\n",
            "4         19          16     3\n",
            "\n",
            "Paired Sample T-Test Results:\n",
            "Mean Pre-Score: 18.4\n",
            "Mean Post-Score: 20.45\n",
            "Variance Pre-Score: 9.936842105263159\n",
            "Variance Post-Score: 16.471052631578946\n",
            "Number of Observations: 20\n",
            "Pearson Correlation: 0.7174770398523397\n",
            "Hypothesized Mean Difference: 0\n",
            "Degrees of Freedom: 19\n",
            "T-Statistic: -3.231252665580312\n",
            "P-Value (One-Tail): 0.002197482996592832\n",
            "T Critical Value (One-Tail): 1.729132811521367\n",
            "P-Value (Two-Tail): 0.004394965993185664\n",
            "T Critical Value (Two-Tail): 2.093024054408263\n",
            "Result: Reject the null hypothesis (Significant difference found).\n"
          ]
        }
      ]
    }
  ]
}